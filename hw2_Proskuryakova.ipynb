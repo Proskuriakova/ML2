{
 "cells": [
  {
   "cell_type": "markdown",
   "metadata": {
    "id": "RYp0bXOFK-hP"
   },
   "source": [
    "# Машинное обучение, ФКН ВШЭ\n",
    "\n",
    "## Практическое задание 8. Метод опорных векторов и аппроксимация ядер\n",
    "\n",
    "### Общая информация\n",
    "Дата выдачи: 1.10.2021\n",
    "\n",
    "Мягкий дедлайн: 17.10.2021 23:59 МСК\n",
    "\n",
    "Жесткий дедлайн: 24.10.2021 23:59 МСК (1 неделя -- минус балл)\n",
    "\n",
    "### Оценивание и штрафы\n",
    "Каждая из задач имеет определенную «стоимость» (указана в скобках около задачи). Максимальная оценка за работу (без учёта бонусов) — 10 баллов.\n",
    "\n",
    "Сдавать задание после указанного жёсткого срока сдачи нельзя. При выставлении неполного балла за задание в связи с наличием ошибок на усмотрение проверяющего предусмотрена возможность исправить работу на указанных в ответном письме условиях.\n",
    "\n",
    "Задание выполняется самостоятельно. «Похожие» решения считаются плагиатом и все задействованные студенты (в том числе те, у кого списали) не могут получить за него больше 0 баллов (подробнее о плагиате см. на странице курса). Если вы нашли решение какого-то из заданий (или его часть) в открытом источнике, необходимо указать ссылку на этот источник в отдельном блоке в конце вашей работы (скорее всего вы будете не единственным, кто это нашел, поэтому чтобы исключить подозрение в плагиате, необходима ссылка на источник).\n",
    "\n",
    "Неэффективная реализация кода может негативно отразиться на оценке.\n",
    "\n",
    "### Формат сдачи\n",
    "Загрузите решение в свой репозиторий на github и поделитесь [ссылкой на решение в форме](https://forms.gle/ZzCaqRj6bmfpSpyL7). Не забудьте дать доступ к Вашему репозиторию, что у преподавателей была возмоожность проверить работу."
   ]
  },
  {
   "cell_type": "markdown",
   "metadata": {
    "id": "vY8vT0W_K-hR"
   },
   "source": [
    "### О задании\n",
    "\n",
    "На занятиях мы подробно обсуждали метод опорных векторов (SVM). В базовой версии в нём нет чего-то особенного — мы всего лишь используем специальную функцию потерь, которая не требует устремлять отступы к бесконечности; ей достаточно, чтобы отступы были не меньше +1. Затем мы узнали, что SVM можно переписать в двойственном виде, который, позволяет заменить скалярные произведения объектов на ядра. Это будет соответствовать построению модели в новом пространстве более высокой размерности, координаты которого представляют собой нелинейные модификации исходных признаков.\n",
    "\n",
    "Ядровой SVM, к сожалению, довольно затратен по памяти (нужно хранить матрицу Грама размера $d \\times d$) и по времени (нужно решать задачу условной оптимизации с квадратичной функцией, а это не очень быстро). Мы обсуждали, что есть способы посчитать новые признаки $\\tilde \\varphi(x)$ на основе исходных так, что скалярные произведения этих новых $\\langle \\tilde \\varphi(x), \\tilde \\varphi(z) \\rangle$ приближают ядро $K(x, z)$.\n",
    "\n",
    "Мы будем исследовать аппроксимации методом Random Fourier Features (RFF, также в литературе встречается название Random Kitchen Sinks) для гауссовых ядер. Будем использовать формулы, которые немного отличаются от того, что было на лекциях (мы добавим сдвиги внутрь тригонометрических функций и будем использовать только косинусы, потому что с нужным сдвигом косинус превратится в синус):\n",
    "$$\\tilde \\varphi(x) = (\n",
    "\\cos (w_1^T x + b_1),\n",
    "\\dots,\n",
    "\\cos (w_n^T x + b_n)\n",
    "),$$\n",
    "где $w_j \\sim \\mathcal{N}(0, 1/\\sigma^2)$, $b_j \\sim U[-\\pi, \\pi]$.\n",
    "\n",
    "На новых признаках $\\tilde \\varphi(x)$ мы будем строить любую линейную модель.\n",
    "\n",
    "Можно считать, что это некоторая новая парадигма построения сложных моделей. Можно направленно искать сложные нелинейные закономерности в данных с помощью градиентного бустинга или нейронных сетей, а можно просто нагенерировать большое количество случайных нелинейных признаков и надеяться, что быстрая и простая модель (то есть линейная) сможет показать на них хорошее качество. В этом задании мы изучим, насколько работоспособна такая идея.\n",
    "\n",
    "### Алгоритм\n",
    "\n",
    "Вам потребуется реализовать следующий алгоритм:\n",
    "1. Понизить размерность выборки до new_dim с помощью метода главных компонент.\n",
    "2. Для полученной выборки оценить гиперпараметр $\\sigma^2$ с помощью эвристики (рекомендуем считать медиану не по всем парам объектов, а по случайному подмножеству из где-то миллиона пар объектов): $$\\sigma^2 = \\text{median}_{i, j = 1, \\dots, \\ell, i \\neq j} \\left\\{\\sum_{k = 1}^{d} (x_{ik} - x_{jk})^2 \\right\\}$$\n",
    "3. Сгенерировать n_features наборов весов $w_j$ и сдвигов $b_j$.\n",
    "4. Сформировать n_features новых признаков по формулам, приведённым выше.\n",
    "5. Обучить линейную модель (логистическую регрессию или SVM) на новых признаках.\n",
    "6. Повторить преобразования (PCA, формирование новых признаков) к тестовой выборке и применить модель."
   ]
  },
  {
   "cell_type": "markdown",
   "metadata": {
    "id": "N_sGunb7K-hS"
   },
   "source": [
    "Тестировать алгоритм мы будем на данных Fashion MNIST. Ниже код для их загрузки и подготовки."
   ]
  },
  {
   "cell_type": "code",
   "execution_count": 1,
   "metadata": {},
   "outputs": [],
   "source": [
    "import warnings\n",
    "warnings.filterwarnings('ignore')"
   ]
  },
  {
   "cell_type": "code",
   "execution_count": 2,
   "metadata": {},
   "outputs": [],
   "source": [
    "from sklearn.decomposition import PCA\n",
    "from sklearn.preprocessing import StandardScaler\n",
    "import numpy as np\n",
    "from itertools import combinations, product, permutations\n",
    "from sklearn.linear_model import LogisticRegression, SGDClassifier\n",
    "from sklearn.svm import SVC, LinearSVC\n",
    "from matplotlib import pyplot as plt\n",
    "from sklearn.metrics import accuracy_score, precision_score\n",
    "from sklearn.ensemble import RandomForestClassifier\n"
   ]
  },
  {
   "cell_type": "code",
   "execution_count": 3,
   "metadata": {
    "id": "YyG6dBfjK-hS"
   },
   "outputs": [],
   "source": [
    "import keras\n",
    "from keras.datasets import fashion_mnist\n",
    "(x_train_pics, y_train), (x_test_pics, y_test) = fashion_mnist.load_data()\n",
    "x_train = x_train_pics.reshape(x_train_pics.shape[0], -1)\n",
    "x_test = x_test_pics.reshape(x_test_pics.shape[0], -1)"
   ]
  },
  {
   "cell_type": "markdown",
   "metadata": {
    "id": "rJNN55F7K-hT"
   },
   "source": [
    "__Задание 1. (5 баллов)__\n",
    "\n",
    "Реализуйте алгоритм, описанный выше. Можете воспользоваться шаблоном класса ниже или написать свой интерфейс.\n",
    "\n",
    "Ваша реализация должна поддерживать следующие опции:\n",
    "1. Возможность задавать значения гиперпараметров new_dim (по умолчанию 50) и n_features (по умолчанию 1000).\n",
    "2. Возможность включать или выключать предварительное понижение размерности с помощью метода главных компонент.\n",
    "3. Возможность выбирать тип линейной модели (логистическая регрессия или SVM с линейным ядром).\n",
    "\n",
    "Протестируйте на данных Fashion MNIST, сформированных кодом выше. Если на тесте у вас получилась доля верных ответов не ниже 0.84 с гиперпараметрами по умолчанию, то вы всё сделали правильно."
   ]
  },
  {
   "cell_type": "code",
   "execution_count": 28,
   "metadata": {
    "id": "jP8yepx8K-hT"
   },
   "outputs": [],
   "source": [
    "from sklearn.base import BaseEstimator, TransformerMixin\n",
    "\n",
    "\n",
    "class RFFPipeline(BaseEstimator, TransformerMixin):\n",
    "    def __init__(self, n_features=1000, new_dim=50, use_PCA=True, classifier='logreg'):\n",
    "        \"\"\"        \n",
    "        Implements pipeline, which consists of PCA decomposition,\n",
    "        Random Fourier Features approximation and linear classification model.\n",
    "        \n",
    "        n_features, int: amount of synthetic random features generated with RFF approximation.\n",
    "\n",
    "        new_dim, int: PCA output size.\n",
    "        \n",
    "        use_PCA, bool: whether to include PCA preprocessing.\n",
    "        \n",
    "        classifier, string: either 'svm' or 'logreg', a linear classification model to use on top of pipeline.\n",
    "        \n",
    "        Feel free to edit this template for your preferences.    \n",
    "        \"\"\"\n",
    "        self.n_features = n_features\n",
    "        self.use_PCA = use_PCA\n",
    "        self.new_dim = new_dim\n",
    "        self.classifier = classifier\n",
    "        \n",
    "    def fit(self, X, y):\n",
    "        \"\"\"\n",
    "        Fit all parts of algorithm (PCA, RFF, Classification) to training set.\n",
    "    \n",
    "        \"\"\"\n",
    "        if self.use_PCA:\n",
    "            self.pca = PCA(n_components = self.new_dim)\n",
    "            X = self.pca.fit_transform(X)\n",
    "        self.sc = StandardScaler()\n",
    "        X = self.sc.fit_transform(X)\n",
    "            \n",
    "        sample_ind1 = np.random.choice(np.arange(0, X.shape[0]), int(1e6), True)\n",
    "        sample_ind2 = np.random.choice(np.arange(0, X.shape[0]), int(1e6), True)\n",
    "\n",
    "        while len(np.where(sample_ind1 == sample_ind2)[0]) != 0:\n",
    "            sample_ind1[np.where(sample_ind1 == sample_ind2)[0]] = np.random.choice(np.arange(0, \n",
    "                                            X.shape[0]), len(np.where(sample_ind1 == sample_ind2)[0]))\n",
    "            \n",
    "        sigma = np.median(np.sum((X[sample_ind1] - X[sample_ind2])**2, axis = 1))\n",
    "\n",
    "        self.weights = np.random.normal(loc = 0, scale = (1/sigma) ** 0.5, size = (X.shape[1], self.n_features))\n",
    "        self.biases = np.random.uniform(low = -np.pi, high = np.pi, size = self.n_features)\n",
    "        tr = np.cos(X.dot(self.weights) + self.biases)\n",
    "\n",
    "        if self.classifier == 'logreg':\n",
    "            self.model = LogisticRegression()\n",
    "        if self.classifier == 'svm':\n",
    "            self.model = LinearSVC()\n",
    "        \n",
    "        self.model.fit(tr, y)\n",
    "        \n",
    "        return self\n",
    "\n",
    "    def predict_proba(self, X):\n",
    "        \"\"\"\n",
    "        Apply pipeline to obtain scores for input data.\n",
    "        \"\"\"\n",
    "        if self.use_PCA:\n",
    "            X = self.pca.transform(X)\n",
    "        X = self.sc.transform(X)\n",
    "            \n",
    "        test = np.cos(X.dot(self.weights) + self.biases)\n",
    "\n",
    "        return self.model.predict_proba(test)[:, 1]\n",
    "        \n",
    "    def predict(self, X):\n",
    "        \"\"\"\n",
    "        Apply pipeline to obtain discrete predictions for input data.\n",
    "        \"\"\"\n",
    "        if self.use_PCA:\n",
    "            X = self.pca.transform(X)\n",
    "        X = self.sc.transform(X)\n",
    "                        \n",
    "        test = np.cos(X.dot(self.weights) + self.biases)\n",
    "\n",
    "        return self.model.predict(test)"
   ]
  },
  {
   "cell_type": "code",
   "execution_count": 5,
   "metadata": {},
   "outputs": [],
   "source": [
    "rffp = RFFPipeline()\n",
    "rffp.fit(x_train, y_train)\n",
    "pred = rffp.predict(x_test)"
   ]
  },
  {
   "cell_type": "code",
   "execution_count": 6,
   "metadata": {},
   "outputs": [
    {
     "data": {
      "text/plain": [
       "0.8674"
      ]
     },
     "execution_count": 6,
     "metadata": {},
     "output_type": "execute_result"
    }
   ],
   "source": [
    "accuracy_score(y_test, pred)"
   ]
  },
  {
   "cell_type": "markdown",
   "metadata": {
    "id": "HYqQUEi-K-hU"
   },
   "source": [
    "__Задание 2. (3 балла)__\n",
    "\n",
    "Сравните подход со случайными признаками с обучением SVM на исходных признаках. Попробуйте вариант с обычным (линейным) SVM и с ядровым SVM. Ядровой SVM может очень долго обучаться, поэтому можно делать любые разумные вещи для ускорения: брать подмножество объектов из обучающей выборки, например.\n",
    "\n",
    "Сравните подход со случайными признаками с вариантом, в котором вы понижаете размерность с помощью PCA и обучаете градиентный бустинг. Используйте одну из реализаций CatBoost/LightGBM/XGBoost, не забудьте подобрать число деревьев и длину шага.\n",
    "\n",
    "Сделайте выводы — насколько идея со случайными признаками работает? Сравните как с точки зрения качества, так и с точки зрения скорости обучения и применения."
   ]
  },
  {
   "cell_type": "code",
   "execution_count": 6,
   "metadata": {},
   "outputs": [],
   "source": [
    "import lightgbm as lgb\n",
    "from sklearn.model_selection import train_test_split\n",
    "import optuna \n",
    "from datetime import datetime as dt"
   ]
  },
  {
   "cell_type": "code",
   "execution_count": 7,
   "metadata": {},
   "outputs": [],
   "source": [
    "pca = PCA(n_components = 50)\n",
    "X_tr = pca.fit_transform(x_train)\n",
    "X_tst = pca.transform(x_test)"
   ]
  },
  {
   "cell_type": "markdown",
   "metadata": {},
   "source": [
    "Найдем параметры для бустинга"
   ]
  },
  {
   "cell_type": "code",
   "execution_count": null,
   "metadata": {},
   "outputs": [],
   "source": [
    "def objective(trial):\n",
    "    train_x, test_x, train_y, test_y = train_test_split(X_tr, y_train, test_size=0.25)\n",
    "    dtrain = lgb.Dataset(train_x, label=train_y)\n",
    " \n",
    "    param = {\n",
    "        'n_estimators': trial.suggest_int('n_estimators', 10, 300),\n",
    "        'max_depth': trial.suggest_int('max_depth', 5, 200),\n",
    "        'learning_rate': trial.suggest_float('learning_rate', 0.001, 0.5),\n",
    "        'min_child_samples': trial.suggest_int('min_child_samples', 5, 100),\n",
    "    }\n",
    " \n",
    "    gbm = lgb.train(param, dtrain)\n",
    "    preds = gbm.predict(test_x)\n",
    "    pred_labels = np.rint(preds)\n",
    "    accuracy = accuracy_score(test_y, pred_labels)\n",
    "    return accuracy\n",
    " \n",
    "study = optuna.create_study(direction='maximize')\n",
    "study.optimize(objective, n_trials=100)"
   ]
  },
  {
   "cell_type": "code",
   "execution_count": 9,
   "metadata": {},
   "outputs": [],
   "source": [
    "best_params_pca = study.best_trial.params"
   ]
  },
  {
   "cell_type": "markdown",
   "metadata": {},
   "source": [
    "Обучим и получим результаты для бустинга (с PCA и без)"
   ]
  },
  {
   "cell_type": "code",
   "execution_count": 10,
   "metadata": {},
   "outputs": [],
   "source": [
    "metrics = []\n",
    "\n",
    "st = dt.now()\n",
    "model = lgb.LGBMClassifier(**best_params_pca)\n",
    "model.fit(X_tr, y_train)\n",
    "pred = model.predict(X_tst)\n",
    "end = dt.now()\n",
    "\n",
    "metrics.append(['boosting with pca', accuracy_score(y_test, pred), round((end - st).seconds/60., 2)])\n",
    "\n",
    "st = dt.now()\n",
    "model = lgb.LGBMClassifier(**best_params_pca)\n",
    "model.fit(x_train, y_train)\n",
    "pred = model.predict(x_test)\n",
    "end = dt.now()\n",
    "\n",
    "metrics.append(['boosting', accuracy_score(y_test, pred), round((end - st).seconds/60., 2)])"
   ]
  },
  {
   "cell_type": "markdown",
   "metadata": {},
   "source": [
    "Обучим и проверим остальные модели, для ядрового SVM будем брать случайную подвыборку из всех объектов"
   ]
  },
  {
   "cell_type": "code",
   "execution_count": 12,
   "metadata": {},
   "outputs": [
    {
     "name": "stdout",
     "output_type": "stream",
     "text": [
      "model:  linear SVM , execution time:  5.07  minutes\n",
      "model:  SVM with rbf kernel , execution time:  6.45  minutes\n",
      "model:  random_fourier with pca and logreg , execution time:  0.2  minutes\n",
      "model:  random_fourier with pca and SVM , execution time:  6.25  minutes\n",
      "model:  random_fourier without pca and logreg , execution time:  0.82  minutes\n",
      "model:  random_fourier without pca and SVM , execution time:  6.65  minutes\n"
     ]
    }
   ],
   "source": [
    "models = {\n",
    "    'linear SVM': LinearSVC(),\n",
    "    'SVM with rbf kernel': SVC(kernel = 'rbf'),\n",
    "    'random_fourier with pca and logreg': RFFPipeline(use_PCA = True, classifier='logreg'), \n",
    "    'random_fourier with pca and SVM': RFFPipeline(use_PCA = True, classifier='svm'),\n",
    "    'random_fourier without pca and logreg': RFFPipeline(use_PCA = False, classifier='logreg'), \n",
    "    'random_fourier without pca and SVM': RFFPipeline(use_PCA = False, classifier='svm'),\n",
    "}\n",
    "\n",
    "ind = np.random.choice(np.arange(0, x_train.shape[0]), int(x_train.shape[0] * 0.6), False)\n",
    "X_train = np.copy(x_train)[ind]\n",
    "Y_train = np.copy(y_train)[ind]\n",
    "\n",
    "for model_name, model in models.items():\n",
    "        \n",
    "    st = dt.now()\n",
    "    if model_name == 'SVM with rbf kernel':\n",
    "        model.fit(X_train, Y_train)\n",
    "        \n",
    "    else:\n",
    "        model.fit(x_train, y_train)\n",
    "    pred = model.predict(x_test)\n",
    "    end = dt.now()\n",
    "    print('model: ', model_name, ', execution time: ', round((end - st).seconds/60., 2), ' minutes') \n",
    "    \n",
    "    metrics.append([model_name, accuracy_score(y_test, pred), round((end - st).seconds/60., 2)])"
   ]
  },
  {
   "cell_type": "code",
   "execution_count": 14,
   "metadata": {},
   "outputs": [
    {
     "data": {
      "text/html": [
       "<div>\n",
       "<style scoped>\n",
       "    .dataframe tbody tr th:only-of-type {\n",
       "        vertical-align: middle;\n",
       "    }\n",
       "\n",
       "    .dataframe tbody tr th {\n",
       "        vertical-align: top;\n",
       "    }\n",
       "\n",
       "    .dataframe thead th {\n",
       "        text-align: right;\n",
       "    }\n",
       "</style>\n",
       "<table border=\"1\" class=\"dataframe\">\n",
       "  <thead>\n",
       "    <tr style=\"text-align: right;\">\n",
       "      <th></th>\n",
       "      <th>model</th>\n",
       "      <th>accuracy</th>\n",
       "      <th>time in minutes</th>\n",
       "    </tr>\n",
       "  </thead>\n",
       "  <tbody>\n",
       "    <tr>\n",
       "      <th>0</th>\n",
       "      <td>boosting with pca</td>\n",
       "      <td>0.8763</td>\n",
       "      <td>0.15</td>\n",
       "    </tr>\n",
       "    <tr>\n",
       "      <th>1</th>\n",
       "      <td>boosting</td>\n",
       "      <td>0.9060</td>\n",
       "      <td>2.48</td>\n",
       "    </tr>\n",
       "    <tr>\n",
       "      <th>2</th>\n",
       "      <td>linear SVM</td>\n",
       "      <td>0.8040</td>\n",
       "      <td>5.07</td>\n",
       "    </tr>\n",
       "    <tr>\n",
       "      <th>3</th>\n",
       "      <td>SVM with rbf kernel</td>\n",
       "      <td>0.8770</td>\n",
       "      <td>6.45</td>\n",
       "    </tr>\n",
       "    <tr>\n",
       "      <th>4</th>\n",
       "      <td>random_fourier with pca and logreg</td>\n",
       "      <td>0.8643</td>\n",
       "      <td>0.20</td>\n",
       "    </tr>\n",
       "    <tr>\n",
       "      <th>5</th>\n",
       "      <td>random_fourier with pca and SVM</td>\n",
       "      <td>0.8575</td>\n",
       "      <td>6.25</td>\n",
       "    </tr>\n",
       "    <tr>\n",
       "      <th>6</th>\n",
       "      <td>random_fourier without pca and logreg</td>\n",
       "      <td>0.8617</td>\n",
       "      <td>0.82</td>\n",
       "    </tr>\n",
       "    <tr>\n",
       "      <th>7</th>\n",
       "      <td>random_fourier without pca and SVM</td>\n",
       "      <td>0.8499</td>\n",
       "      <td>6.65</td>\n",
       "    </tr>\n",
       "  </tbody>\n",
       "</table>\n",
       "</div>"
      ],
      "text/plain": [
       "                                   model  accuracy  time in minutes\n",
       "0                      boosting with pca    0.8763             0.15\n",
       "1                               boosting    0.9060             2.48\n",
       "2                             linear SVM    0.8040             5.07\n",
       "3                    SVM with rbf kernel    0.8770             6.45\n",
       "4     random_fourier with pca and logreg    0.8643             0.20\n",
       "5        random_fourier with pca and SVM    0.8575             6.25\n",
       "6  random_fourier without pca and logreg    0.8617             0.82\n",
       "7     random_fourier without pca and SVM    0.8499             6.65"
      ]
     },
     "execution_count": 14,
     "metadata": {},
     "output_type": "execute_result"
    }
   ],
   "source": [
    "import pandas as pd\n",
    "metric_df = pd.DataFrame(metrics, columns = ['model', 'accuracy', 'time in minutes'])\n",
    "metric_df"
   ]
  },
  {
   "cell_type": "code",
   "execution_count": 15,
   "metadata": {},
   "outputs": [],
   "source": [
    "#сохраним результаты на всякий случай\n",
    "metric_df.to_csv('metrics.csv')"
   ]
  },
  {
   "cell_type": "markdown",
   "metadata": {},
   "source": [
    "Проанализируем результаты:\n",
    "\n",
    "Бустинг с подобранными параметрами показывает самое высокое качество. Гиперпараметры подбирались на выборке с признаками из PCA, но самый лучший результат все равно получается на исходных признаках. \n",
    "\n",
    "Линейный SVM на исходных признаках дает самый худший результат из всех протестированных моделей, очевидно, что зависимость ожидается не линейная. Для ядрового SVM выбиралась случайная подвыборка из 0.6 всех объектов и его результат один из лучших, второй после бустинга.\n",
    "\n",
    "Модели, обученные на случайных признаках, показывают также неплохой результат на фоне остальных моделей. Лучше метрика у логистической регрессии и обучается она значительно быстрее любой из представленных моделей. Бустинг на исходных признаках хоть и дает лучшее качество, но время его обучения в десять раз больше, чем у логистической регрессии со случайными признаками, SVM  обучается долго как на исходных признаках, так и со случайными признаками и его обучение для каких-то промышленных задач видится только с использованием подвыборок, но для этого изначально следует провести исследование размера подвыборки в зависимости от качества модели. Использование логистической регрессии со случайными признаками вполне возможно, соотношение качество-время обучения получается очень неплохим"
   ]
  },
  {
   "cell_type": "markdown",
   "metadata": {
    "id": "e6umjhWuK-hV"
   },
   "source": [
    "__Задание 3. (2 балла)__\n",
    "\n",
    "Проведите эксперименты:\n",
    "1. Помогает ли предварительное понижение размерности с помощью PCA? \n",
    "2. Как зависит итоговое качество от n_features? Выходит ли оно на плато при росте n_features?\n",
    "3. Важно ли, какую модель обучать — логистическую регрессию или SVM?"
   ]
  },
  {
   "cell_type": "markdown",
   "metadata": {},
   "source": [
    "Предварительное понижение размерности значительно сокращает время обучения обеих моделей, особенно логистической регрессии, касательно качества, то для обеих моделей оно немного выше с использованием PCA.\n",
    "\n",
    "Если брать n_features меньше 1000, то качество значительно хуже и растет с добавлением признаков. Если брать n_features больше тысячи, то качество в тысячных долях колеблется около 0.86, то есть почти не меняется. Но с увеличением количества признаков, ожидаемо растет и время обучения\n",
    "\n",
    "Обучение логистической регрессии значительно быстрее, чем SVM: логистическая регрессия обучается меньше минуты, в то время, как SVM 6 минут. По качеству модели похожи, у обеих около 0.86"
   ]
  },
  {
   "cell_type": "code",
   "execution_count": 29,
   "metadata": {
    "scrolled": true
   },
   "outputs": [],
   "source": [
    "n_features_lr = np.arange(100, 6100, 100)\n",
    "res, times = [], []\n",
    "\n",
    "for n_features in n_features_lr:\n",
    "    \n",
    "    model = RFFPipeline(use_PCA = True, n_features = n_features, classifier='logreg')\n",
    "    st = dt.now()\n",
    "    model.fit(x_train, y_train)\n",
    "    pred = model.predict(x_test)\n",
    "    end = dt.now()\n",
    "    res.append(accuracy_score(y_test, pred))\n",
    "    times.append(round((end - st).seconds/60., 2))"
   ]
  },
  {
   "cell_type": "code",
   "execution_count": 34,
   "metadata": {},
   "outputs": [
    {
     "data": {
      "image/png": "[encoded data removed]",
      "text/plain": [
       "<Figure size 720x432 with 1 Axes>"
      ]
     },
     "metadata": {
      "needs_background": "light"
     },
     "output_type": "display_data"
    }
   ],
   "source": [
    "plt.figure(figsize=(10, 6))\n",
    "\n",
    "plt.plot(n_features_lr, np.around(res,3))\n",
    "plt.title(\"Accuracy of RFFPipeline by different number of random features\", fontsize = 14)\n",
    "plt.xlabel('n_features')\n",
    "plt.ylabel('Accuracy')\n",
    "plt.ylim(0.8, 0.9)\n",
    "None"
   ]
  },
  {
   "cell_type": "code",
   "execution_count": 31,
   "metadata": {},
   "outputs": [
    {
     "data": {
      "image/png": "[encoded data removed]",
      "text/plain": [
       "<Figure size 720x432 with 1 Axes>"
      ]
     },
     "metadata": {
      "needs_background": "light"
     },
     "output_type": "display_data"
    }
   ],
   "source": [
    "plt.figure(figsize=(10, 6))\n",
    "\n",
    "plt.plot(n_features_lr, times)\n",
    "plt.title(\"Execution time of RFFPipeline by different number of random features\", fontsize = 14)\n",
    "plt.xlabel('n_features')\n",
    "plt.ylabel('time in minutes')\n",
    "None"
   ]
  },
  {
   "cell_type": "markdown",
   "metadata": {
    "id": "CJqXVuasK-hW"
   },
   "source": [
    "### Бонус"
   ]
  },
  {
   "cell_type": "markdown",
   "metadata": {
    "id": "4pc7-1jmK-hY"
   },
   "source": [
    "__Задание 5. (Максимум 2 балла)__\n",
    "\n",
    "Поэкспериментируйте с функциями для вычисления новых случайных признаков. Не обязательно использовать косинус от скалярного произведения — можно брать знак от него, хэш и т.д. Придумайте побольше вариантов для генерации признаков и проверьте, не получается ли с их помощью добиваться более высокого качества. Также можете попробовать другой классификатор поверх случайных признаков, сравните результаты."
   ]
  },
  {
   "cell_type": "code",
   "execution_count": 51,
   "metadata": {
    "id": "dWj-O2vjK-hY"
   },
   "outputs": [],
   "source": [
    "from sklearn.base import BaseEstimator, TransformerMixin\n",
    "\n",
    "\n",
    "class RFFPipeline(BaseEstimator, TransformerMixin):\n",
    "    def __init__(self, n_features=1000, new_dim=50, use_PCA=True, classifier='logreg', \n",
    "                 tranform = ['cos'], p = None):\n",
    "\n",
    "        self.n_features = n_features\n",
    "        self.use_PCA = use_PCA\n",
    "        self.new_dim = new_dim\n",
    "        self.classifier = classifier\n",
    "        self.tranforms = tranform\n",
    "        self.p = p\n",
    "        \n",
    "    def fit(self, X, y):\n",
    "        \"\"\"\n",
    "        Fit all parts of algorithm (PCA, RFF, Classification) to training set.\n",
    "    \n",
    "        \"\"\"\n",
    "\n",
    "        if self.use_PCA:\n",
    "            self.pca = PCA(n_components = self.new_dim)\n",
    "            X = self.pca.fit_transform(X)\n",
    "            \n",
    "        self.sc = StandardScaler()\n",
    "        X = self.sc.fit_transform(X)    \n",
    "        \n",
    "        sample_ind1 = np.random.choice(np.arange(0, X.shape[0]), int(1e6), True)\n",
    "        sample_ind2 = np.random.choice(np.arange(0, X.shape[0]), int(1e6), True)\n",
    "\n",
    "        while len(np.where(sample_ind1 == sample_ind2)[0]) != 0:\n",
    "            sample_ind1[np.where(sample_ind1 == sample_ind2)[0]] = np.random.choice(np.arange(0, \n",
    "                                            X.shape[0]), len(np.where(sample_ind1 == sample_ind2)[0]))\n",
    "            \n",
    "        sigma = np.median(np.sum((X[sample_ind1] - X[sample_ind2])**2, axis = 1))\n",
    "\n",
    "        self.weights = np.random.normal(loc = 0, scale = (1/sigma) ** 0.5, size = (X.shape[1], self.n_features))\n",
    "        self.biases = np.random.uniform(low = -np.pi, high = np.pi, size = self.n_features)\n",
    "        X = self.transform(X.dot(self.weights) + self.biases)\n",
    "\n",
    "            \n",
    "        if self.classifier == 'logreg':\n",
    "            self.model = LogisticRegression()\n",
    "        if self.classifier == 'svm':\n",
    "            self.model = LinearSVC()\n",
    "        if self.classifier == 'sgd':\n",
    "            self.model = SGDClassifier()\n",
    "        if self.classifier == 'random_forest':\n",
    "            self.model = RandomForestClassifier(**best_params_rf)\n",
    "        if self.classifier == 'boosting':\n",
    "            self.model = lgb.LGBMClassifier(**best_params_pca)\n",
    "            \n",
    "        self.model.fit(X, y)\n",
    "        \n",
    "        return self\n",
    "\n",
    "    def predict_proba(self, X):\n",
    "        \"\"\"\n",
    "        Apply pipeline to obtain scores for input data.\n",
    "        \"\"\"\n",
    "        if self.use_PCA:\n",
    "            X = self.pca.transform(X)\n",
    "            \n",
    "        X = self.sc.transform(X)\n",
    "            \n",
    "        X = self.transform(X.dot(self.weights) + self.biases)\n",
    "            \n",
    "        return self.model.predict_proba(X)[:, 1]\n",
    "        \n",
    "    def predict(self, X):\n",
    "        \"\"\"\n",
    "        Apply pipeline to obtain discrete predictions for input data.\n",
    "        \"\"\"\n",
    "        if self.use_PCA:\n",
    "            X = self.pca.transform(X)\n",
    "        X = self.sc.transform(X)\n",
    "        \n",
    "        X = self.transform(X.dot(self.weights) + self.biases)\n",
    "\n",
    "        return self.model.predict(X)\n",
    "\n",
    "    def transform(self, X):\n",
    "        for transfrom in self.tranforms:\n",
    "            if transfrom == 'cos':\n",
    "                X = np.cos(X)\n",
    "            if transfrom == 'sin':\n",
    "                X = np.sin(X)\n",
    "            if transfrom == 'sign':\n",
    "                X = np.sign(X)\n",
    "            if transfrom == 'log':\n",
    "                X = np.log(np.abs(X)) \n",
    "            if transfrom == 'sqrt':\n",
    "                X = np.sqrt(np.abs(X))\n",
    "            if transfrom == 'poly':\n",
    "                X = (X)**self.p           \n",
    "        return X"
   ]
  },
  {
   "cell_type": "markdown",
   "metadata": {},
   "source": [
    "Как классификатор был добавлен помимо линейных моделей случайный лес, подберем для него параметры"
   ]
  },
  {
   "cell_type": "code",
   "execution_count": null,
   "metadata": {},
   "outputs": [],
   "source": [
    "from sklearn.model_selection import cross_validate\n",
    "\n",
    "def objective(trial:optuna.trial.Trial):\n",
    "    params = {\n",
    "        'n_estimators': trial.suggest_int('n_estimators', 10, 300),\n",
    "        'max_depth': trial.suggest_int('max_depth', 5, 200),\n",
    "        'min_samples_leaf': trial.suggest_int('min_samples_leaf', 5, 100),\n",
    "    }\n",
    "\n",
    "\n",
    "    clf = RandomForestClassifier(random_state=42, **params)\n",
    "    scores = cross_validate(clf, X_tr, y_train, verbose=1,\n",
    "                n_jobs=-1, scoring='accuracy', cv=4)\n",
    "    return scores[\"test_score\"].mean()\n",
    "\n",
    "\n",
    "studies = optuna.create_study(direction='maximize')\n",
    "studies.optimize(objective, n_trials=20)\n",
    "best_params_rf = studies.best_trial.params"
   ]
  },
  {
   "cell_type": "code",
   "execution_count": 43,
   "metadata": {},
   "outputs": [
    {
     "name": "stdout",
     "output_type": "stream",
     "text": [
      "trasform features as  cos  , accuracy =  0.8629\n",
      "trasform features as  sign  , accuracy =  0.8232\n",
      "trasform features as  log  , accuracy =  0.8351\n",
      "trasform features as  sqrt  , accuracy =  0.8432\n"
     ]
    }
   ],
   "source": [
    "transforms = ['cos', 'sign', 'log', 'sqrt']\n",
    "acc = []\n",
    "\n",
    "for transform in transforms:\n",
    "    st = dt.now()\n",
    "    model = RFFPipeline(tranform = [transform])\n",
    "    model.fit(x_train, y_train)\n",
    "    pred = model.predict(x_test)\n",
    "    end = dt.now()\n",
    "    acc.append(accuracy_score(y_test, pred))\n",
    "    print('trasform features as ', transform, ' , accuracy = ', accuracy_score(y_test, pred))"
   ]
  },
  {
   "cell_type": "code",
   "execution_count": 44,
   "metadata": {},
   "outputs": [
    {
     "name": "stdout",
     "output_type": "stream",
     "text": [
      "trasform features as degree 2  , accuracy =  0.8514\n",
      "trasform features as degree 3  , accuracy =  0.8567\n",
      "trasform features as degree 4  , accuracy =  0.8602\n",
      "trasform features as degree 5  , accuracy =  0.8546\n"
     ]
    }
   ],
   "source": [
    "for p in np.arange(2,6):\n",
    "    st = dt.now()\n",
    "    model = RFFPipeline(tranform = ['poly'], p = p)\n",
    "    model.fit(x_train, y_train)\n",
    "    pred = model.predict(x_test)\n",
    "    end = dt.now()\n",
    "    acc.append(accuracy_score(y_test, pred))\n",
    "    print('trasform features as degree', p, ' , accuracy = ', accuracy_score(y_test, pred))"
   ]
  },
  {
   "cell_type": "code",
   "execution_count": 48,
   "metadata": {},
   "outputs": [
    {
     "name": "stdout",
     "output_type": "stream",
     "text": [
      "logreg  classifier accuracy is  0.8617\n",
      "execution time is  0.2\n",
      "sgd  classifier accuracy is  0.8578\n",
      "execution time is  0.87\n",
      "random_forest  classifier accuracy is  0.856\n",
      "execution time is  6.92\n",
      "boosting  classifier accuracy is  0.8743\n",
      "execution time is  3.63\n"
     ]
    }
   ],
   "source": [
    "for clf in ['logreg','sgd', 'random_forest', 'boosting']:\n",
    "    st = dt.now()\n",
    "    model = RFFPipeline(classifier=clf)\n",
    "    model.fit(x_train, y_train)\n",
    "    pred = model.predict(x_test)\n",
    "    end = dt.now()\n",
    "    acc.append(accuracy_score(y_test, pred))\n",
    "    print(clf, ' classifier accuracy is ', accuracy_score(y_test, pred))\n",
    "    print('execution time is ', round((end - st).seconds/60., 2))"
   ]
  },
  {
   "cell_type": "markdown",
   "metadata": {},
   "source": [
    "Из признаков были добавлены: знак от скалярного произведения, возведение скалярного произведения в любую степень, а также логарифм от модуля скалярного произведения\n",
    "\n",
    "Качество на всех признаках ниже, чем на косинусе от скалярного произведения - однако, для степеней 4 качество очень близко к косинусу\n",
    "\n",
    "Кроме ранее добавленных классификаторов - логистической регрессии и SVM были добавлены SGDClassifier, Random Forest и  градиентный бустинг - качество Random Forest и SGDClassifierпримерно одинаковое, бустинг, как и ранее на исходных признаках, показывает лучшее значение метрики, так что такой результат ожидаем. \n",
    "\n",
    "Попробуем еще взять комбинации разных функций для случайных признаков, посмотрим, что получится"
   ]
  },
  {
   "cell_type": "code",
   "execution_count": 55,
   "metadata": {},
   "outputs": [
    {
     "name": "stdout",
     "output_type": "stream",
     "text": [
      "trasform features as  ['cos', 'poly']  , accuracy =  0.8506\n",
      "trasform features as  ['log', 'poly']  , accuracy =  0.6895\n",
      "trasform features as  ['poly', 'cos']  , accuracy =  0.7768\n"
     ]
    }
   ],
   "source": [
    "transforms = [['cos', 'poly'], ['log', 'poly'], ['poly', 'cos']]\n",
    "\n",
    "for transform in transforms:\n",
    "    st = dt.now()\n",
    "    model = RFFPipeline(tranform = transform, p = 4)\n",
    "    model.fit(x_train, y_train)\n",
    "    pred = model.predict(x_test)\n",
    "    end = dt.now()\n",
    "    acc.append(accuracy_score(y_test, pred))\n",
    "    print('trasform features as ', transform, ' , accuracy = ', accuracy_score(y_test, pred))"
   ]
  },
  {
   "cell_type": "markdown",
   "metadata": {},
   "source": [
    "Ну, ничего хорошего. Лучшим вариантом из протестированных остается косинус, близко к нему по качеству возведение скалярного произведения в 4 степень"
   ]
  }
 ],
 "metadata": {
  "colab": {
   "collapsed_sections": [],
   "name": "homework-practice-08-random-features.ipynb",
   "provenance": []
  },
  "kernelspec": {
   "display_name": "Python 3",
   "language": "python",
   "name": "python3"
  },
  "language_info": {
   "codemirror_mode": {
    "name": "ipython",
    "version": 3
   },
   "file_extension": ".py",
   "mimetype": "text/x-python",
   "name": "python",
   "nbconvert_exporter": "python",
   "pygments_lexer": "ipython3",
   "version": "3.8.5"
  }
 },
 "nbformat": 4,
 "nbformat_minor": 1
}
